{
 "cells": [
  {
   "cell_type": "markdown",
   "id": "2192b108",
   "metadata": {},
   "source": [
    "# Derive models of drone"
   ]
  },
  {
   "cell_type": "markdown",
   "id": "6ac3a4e5",
   "metadata": {},
   "source": [
    "Do all imports."
   ]
  },
  {
   "cell_type": "code",
   "execution_count": 31,
   "id": "c51ddd4f",
   "metadata": {},
   "outputs": [],
   "source": [
    "import sympy as sym\n",
    "import numpy as np\n",
    "\n",
    "# Suppress the use of scientific notation when printing small numbers\n",
    "np.set_printoptions(suppress=True)"
   ]
  },
  {
   "cell_type": "markdown",
   "id": "under-stupid",
   "metadata": {},
   "source": [
    "## Dynamic model"
   ]
  },
  {
   "cell_type": "markdown",
   "id": "17737b05",
   "metadata": {},
   "source": [
    "Define physical parameters."
   ]
  },
  {
   "cell_type": "markdown",
   "id": "following-implementation",
   "metadata": {},
   "source": [
    "Derive the equations of motion:"
   ]
  },
  {
   "cell_type": "code",
   "execution_count": 117,
   "id": "executive-channel",
   "metadata": {},
   "outputs": [],
   "source": [
    "# components of position (meters)\n",
    "p_x, p_y, p_z = sym.symbols('p_x, p_y, p_z')\n",
    "\n",
    "# yaw, pitch, roll angles (radians)\n",
    "psi, theta, phi = sym.symbols('psi, theta, phi')\n",
    "\n",
    "# components of linear velocity (meters / second)\n",
    "v_x, v_y, v_z = sym.symbols('v_x, v_y, v_z')\n",
    "v_in_body = sym.Matrix([v_x, v_y, v_z])\n",
    "\n",
    "# components of angular velocity (radians / second)\n",
    "w_phi, w_theta, w_psi = sym.symbols('w_phi, w_theta, w_psi')\n",
    "w_in_body = sym.Matrix([w_phi, w_theta, w_psi])\n",
    "\n",
    "# rotor components of angular velcoity \n",
    "w_m1, w_m2, w_m3, w_m4 = sym.symbols('w_m1, w_m2, w_m3, w_m4')\n",
    "R_angular = sym.Matrix([w_m1, w_m2, w_m3, w_m4])\n",
    "\n",
    "# components of net rotor torque\n",
    "tau_phi, tau_theta, tau_psi = sym.symbols('tau_phi, tau_theta, tau_psi')\n",
    "tau_in_body = sym.Matrix([tau_phi, tau_theta, tau_psi])\n",
    "\n",
    "# component of individual rotor torque\n",
    "t_1, t_2, t_3, t_4 = sym.symbols('t_1, t_2, t_3, t_4')\n",
    "R_torques = sym.Matrix([t_1, t_2, t_3, t_4])\n",
    "\n",
    "# component of inertia \n",
    "Ixx, Iyy, Izz = sym.symbols('Ixx, Iyy, Izz')\n",
    "I = sym.Matrix([[Ixx, 0, 0], [0, Iyy, 0], [0, 0, Izz]])\n",
    "# component of rotor inertia \n",
    "Im = sym.symbols('I_m')\n",
    "\n",
    "# net rotor force\n",
    "f_z = sym.symbols('f_z')\n",
    "\n",
    "k = sym.symbols('k')\n",
    "b = sym.symbols('b')\n",
    "m = sym.symbols('m')\n",
    "g = sym.symbols('g')\n",
    "l = sym.symbols('l')\n",
    "\n",
    "Fg = sym.Matrix([0,0,g*m])\n",
    "\n",
    "\n"
   ]
  },
  {
   "cell_type": "code",
   "execution_count": 118,
   "id": "6f1eba60",
   "metadata": {},
   "outputs": [
    {
     "data": {
      "text/latex": [
       "$\\displaystyle \\left[\\begin{matrix}\\cos{\\left(\\psi \\right)} \\cos{\\left(\\theta \\right)} & \\sin{\\left(\\phi \\right)} \\sin{\\left(\\theta \\right)} \\cos{\\left(\\psi \\right)} - \\sin{\\left(\\psi \\right)} \\cos{\\left(\\phi \\right)} & \\sin{\\left(\\phi \\right)} \\sin{\\left(\\psi \\right)} + \\sin{\\left(\\theta \\right)} \\cos{\\left(\\phi \\right)} \\cos{\\left(\\psi \\right)}\\\\\\sin{\\left(\\psi \\right)} \\cos{\\left(\\theta \\right)} & \\sin{\\left(\\phi \\right)} \\sin{\\left(\\psi \\right)} \\sin{\\left(\\theta \\right)} + \\cos{\\left(\\phi \\right)} \\cos{\\left(\\psi \\right)} & - \\sin{\\left(\\phi \\right)} \\cos{\\left(\\psi \\right)} + \\sin{\\left(\\psi \\right)} \\sin{\\left(\\theta \\right)} \\cos{\\left(\\phi \\right)}\\\\- \\sin{\\left(\\theta \\right)} & \\sin{\\left(\\phi \\right)} \\cos{\\left(\\theta \\right)} & \\cos{\\left(\\phi \\right)} \\cos{\\left(\\theta \\right)}\\end{matrix}\\right]$"
      ],
      "text/plain": [
       "Matrix([\n",
       "[cos(psi)*cos(theta), sin(phi)*sin(theta)*cos(psi) - sin(psi)*cos(phi),  sin(phi)*sin(psi) + sin(theta)*cos(phi)*cos(psi)],\n",
       "[sin(psi)*cos(theta), sin(phi)*sin(psi)*sin(theta) + cos(phi)*cos(psi), -sin(phi)*cos(psi) + sin(psi)*sin(theta)*cos(phi)],\n",
       "[        -sin(theta),                              sin(phi)*cos(theta),                               cos(phi)*cos(theta)]])"
      ]
     },
     "execution_count": 118,
     "metadata": {},
     "output_type": "execute_result"
    }
   ],
   "source": [
    "# rotation matrices\n",
    "Rx = sym.Matrix([[1,           0,              0],\n",
    "                 [0, sym.cos(phi), -sym.sin(phi)], \n",
    "                 [0, sym.sin(phi), sym.cos(phi)]])\n",
    "Ry = sym.Matrix([[sym.cos(theta), 0, sym.sin(theta)], \n",
    "                 [0,              1,              0], \n",
    "                 [-sym.sin(theta), 0, sym.cos(theta)]])\n",
    "Rz = sym.Matrix([[sym.cos(psi), -sym.sin(psi), 0], \n",
    "                 [sym.sin(psi), sym.cos(psi), 0], \n",
    "                 [0,            0,            1]])\n",
    "RBtoW = Rz @ Ry @ Rx\n",
    "RWtoB = RBtoW.T\n",
    "\n",
    "# angular velocity to angular rates\n",
    "ex = sym.Matrix([[1], [0], [0]])\n",
    "ey = sym.Matrix([[0], [1], [0]])\n",
    "ez = sym.Matrix([[0], [0], [1]])\n",
    "RAtoB = sym.Matrix.hstack(ex, Rx.T @ ey, (Ry@Rx).T@ez)\n",
    "RAtoB_inv = RAtoB.inv()\n",
    "\n",
    "RBtoW"
   ]
  },
  {
   "cell_type": "code",
   "execution_count": 119,
   "id": "a6d49e1d",
   "metadata": {},
   "outputs": [],
   "source": [
    "def symSum(vector):\n",
    "    total_sum = 0\n",
    "    for i in vector:\n",
    "        total_sum += i\n",
    "    return total_sum"
   ]
  },
  {
   "cell_type": "code",
   "execution_count": 120,
   "id": "d9964aa5",
   "metadata": {},
   "outputs": [
    {
     "name": "stdout",
     "output_type": "stream",
     "text": [
      "(Matrix([\n",
      "[                                        0],\n",
      "[                                        0],\n",
      "[k*(w_m1**2 + w_m2**2 + w_m3**2 + w_m4**2)]]), Matrix([\n",
      "[k*l*(-w_m2**2 + w_m4**2)],\n",
      "[k*l*(-w_m1**2 + w_m3**2)],\n",
      "[  -t_1 + t_2 - t_3 + t_4]]), Matrix([\n",
      "[(-b*w_m1**2 + t_1)/I_m],\n",
      "[(-b*w_m2**2 + t_2)/I_m],\n",
      "[(-b*w_m3**2 + t_3)/I_m],\n",
      "[(-b*w_m4**2 + t_4)/I_m]]))\n"
     ]
    }
   ],
   "source": [
    "def RotorAcceleration (R_angular, R_torques):\n",
    "    F_drag = R_angular.applyfunc(lambda x: x**2 * b) \n",
    "    F_motor = R_torques \n",
    "    dWm = (F_motor - F_drag) / Im \n",
    "    return dWm \n",
    "\n",
    "def RotorForces(R_angular, R_torques): \n",
    "    w_m1 = R_angular[0] \n",
    "    w_m2 = R_angular[1] \n",
    "    w_m3 = R_angular[2] \n",
    "    w_m4 = R_angular[3] \n",
    "\n",
    "    individual_T = R_angular.applyfunc(lambda x: x**2 * k) \n",
    "    thrust = sym.simplify(symSum(individual_T))  # Ensure to evaluate the summation \n",
    "    thrust_T = sym.Matrix([0, 0, thrust]) \n",
    "\n",
    "\n",
    "    tau_phi = l*k*(-w_m2**2 + w_m4**2) \n",
    "    tau_theta = l*k*(-w_m1**2 + w_m3**2) \n",
    "    dwm = RotorAcceleration(R_angular, R_torques) \n",
    "    [dwm1, dwm2, dwm3, dwm4] = dwm \n",
    "    Tm1 = -b*w_m1**2 - Im*dwm1 \n",
    "    Tm2 = b*w_m2**2 + Im*dwm2 \n",
    "    Tm3 = -b*w_m3**2 + -Im*dwm3 \n",
    "    Tm4 = b*w_m4**2 + Im*dwm4 \n",
    "    tau_psi = sym.simplify(Tm1+Tm2+Tm3+Tm4) \n",
    "    tau = sym.Matrix ([tau_phi, tau_theta, tau_psi]) \n",
    "    return thrust_T, tau, dwm \n",
    "    \n",
    "print(RotorForces(R_angular, R_torques)) "
   ]
  },
  {
   "cell_type": "code",
   "execution_count": 122,
   "id": "44766320",
   "metadata": {},
   "outputs": [
    {
     "data": {
      "text/latex": [
       "$\\displaystyle \\left[\\begin{matrix}v_{x}\\\\v_{y}\\\\v_{z}\\\\\\frac{k \\left(\\sin{\\left(\\phi \\right)} \\sin{\\left(\\psi \\right)} + \\sin{\\left(\\theta \\right)} \\cos{\\left(\\phi \\right)} \\cos{\\left(\\psi \\right)}\\right) \\left(w_{m1}^{2} + w_{m2}^{2} + w_{m3}^{2} + w_{m4}^{2}\\right)}{m}\\\\- \\frac{k \\left(\\sin{\\left(\\phi \\right)} \\cos{\\left(\\psi \\right)} - \\sin{\\left(\\psi \\right)} \\sin{\\left(\\theta \\right)} \\cos{\\left(\\phi \\right)}\\right) \\left(w_{m1}^{2} + w_{m2}^{2} + w_{m3}^{2} + w_{m4}^{2}\\right)}{m}\\\\\\frac{g m + k \\left(w_{m1}^{2} + w_{m2}^{2} + w_{m3}^{2} + w_{m4}^{2}\\right) \\cos{\\left(\\phi \\right)} \\cos{\\left(\\theta \\right)}}{m}\\\\w_{\\phi}\\\\w_{\\theta}\\\\w_{\\psi}\\\\- \\frac{Ixx Iyy \\left(t_{1} - t_{2} + t_{3} - t_{4}\\right) \\cos{\\left(\\phi \\right)} \\tan{\\left(\\theta \\right)} + Ixx Izz k l \\left(w_{m1}^{2} - w_{m3}^{2}\\right) \\sin{\\left(\\phi \\right)} \\tan{\\left(\\theta \\right)} + Iyy Izz k l \\left(w_{m2}^{2} - w_{m4}^{2}\\right)}{Ixx Iyy Izz}\\\\\\frac{Iyy \\left(t_{1} - t_{2} + t_{3} - t_{4}\\right) \\sin{\\left(\\phi \\right)} - Izz k l \\left(w_{m1}^{2} - w_{m3}^{2}\\right) \\cos{\\left(\\phi \\right)}}{Iyy Izz}\\\\- \\frac{Iyy \\left(t_{1} - t_{2} + t_{3} - t_{4}\\right) \\cos{\\left(\\phi \\right)} + Izz k l \\left(w_{m1}^{2} - w_{m3}^{2}\\right) \\sin{\\left(\\phi \\right)}}{Iyy Izz \\cos{\\left(\\theta \\right)}}\\\\\\frac{- b w_{m1}^{2} + t_{1}}{I_{m}}\\\\\\frac{- b w_{m2}^{2} + t_{2}}{I_{m}}\\\\\\frac{- b w_{m3}^{2} + t_{3}}{I_{m}}\\\\\\frac{- b w_{m4}^{2} + t_{4}}{I_{m}}\\end{matrix}\\right]$"
      ],
      "text/plain": [
       "Matrix([\n",
       "[                                                                                                                                                         v_x],\n",
       "[                                                                                                                                                         v_y],\n",
       "[                                                                                                                                                         v_z],\n",
       "[                                                              k*(sin(phi)*sin(psi) + sin(theta)*cos(phi)*cos(psi))*(w_m1**2 + w_m2**2 + w_m3**2 + w_m4**2)/m],\n",
       "[                                                             -k*(sin(phi)*cos(psi) - sin(psi)*sin(theta)*cos(phi))*(w_m1**2 + w_m2**2 + w_m3**2 + w_m4**2)/m],\n",
       "[                                                                                     (g*m + k*(w_m1**2 + w_m2**2 + w_m3**2 + w_m4**2)*cos(phi)*cos(theta))/m],\n",
       "[                                                                                                                                                       w_phi],\n",
       "[                                                                                                                                                     w_theta],\n",
       "[                                                                                                                                                       w_psi],\n",
       "[-(Ixx*Iyy*(t_1 - t_2 + t_3 - t_4)*cos(phi)*tan(theta) + Ixx*Izz*k*l*(w_m1**2 - w_m3**2)*sin(phi)*tan(theta) + Iyy*Izz*k*l*(w_m2**2 - w_m4**2))/(Ixx*Iyy*Izz)],\n",
       "[                                                                     (Iyy*(t_1 - t_2 + t_3 - t_4)*sin(phi) - Izz*k*l*(w_m1**2 - w_m3**2)*cos(phi))/(Iyy*Izz)],\n",
       "[                                                         -(Iyy*(t_1 - t_2 + t_3 - t_4)*cos(phi) + Izz*k*l*(w_m1**2 - w_m3**2)*sin(phi))/(Iyy*Izz*cos(theta))],\n",
       "[                                                                                                                                      (-b*w_m1**2 + t_1)/I_m],\n",
       "[                                                                                                                                      (-b*w_m2**2 + t_2)/I_m],\n",
       "[                                                                                                                                      (-b*w_m3**2 + t_3)/I_m],\n",
       "[                                                                                                                                      (-b*w_m4**2 + t_4)/I_m]])"
      ]
     },
     "execution_count": 122,
     "metadata": {},
     "output_type": "execute_result"
    }
   ],
   "source": [
    "RWtoB = RBtoW.T\n",
    "RAtoG = sym.simplify(RAtoB_inv)\n",
    "\n",
    "thrust, tau, dwm = RotorForces(R_angular, R_torques)\n",
    "F_thrust = sym.simplify(RBtoW @ thrust)\n",
    "A_linear = sym.simplify((Fg + F_thrust) / m)\n",
    "A_angular = sym.simplify(RAtoG @ (I.inv() @ tau))\n",
    "\n",
    "result = sym.Matrix([v_in_body, A_linear, w_in_body, A_angular, dwm])\n",
    "result\n"
   ]
  }
 ],
 "metadata": {
  "kernelspec": {
   "display_name": "Python 3",
   "langage": "python",
   "name": "python3"
  },
  "language_info": {
   "codemirror_mode": {
    "name": "ipython",
    "version": 3
   },
   "file_extension": ".py",
   "mimetype": "text/x-python",
   "name": "python",
   "nbconvert_exporter": "python",
   "pygments_lexer": "ipython3",
   "version": "3.9.7"
  }
 },
 "nbformat": 4,
 "nbformat_minor": 5
}
